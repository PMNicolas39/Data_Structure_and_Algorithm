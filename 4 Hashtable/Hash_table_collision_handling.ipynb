{
 "cells": [
  {
   "cell_type": "code",
   "execution_count": 28,
   "id": "66695502-57c8-428c-a168-0fe20803386d",
   "metadata": {},
   "outputs": [
    {
     "name": "stdout",
     "output_type": "stream",
     "text": [
      "Invalid temperature. Ignore the row\n"
     ]
    }
   ],
   "source": [
    "weathers = []\n",
    "with open(\"nyc_weather.csv\", \"r\") as f:\n",
    "    for line in f:\n",
    "        weather = line.split(\",\")\n",
    "        try:\n",
    "            temp = int(weather[1])\n",
    "            #using append for list\n",
    "            weathers.append(temp)\n",
    "        except:\n",
    "            print(\"Invalid temperature. Ignore the row\")"
   ]
  },
  {
   "cell_type": "code",
   "execution_count": 41,
   "id": "8bdf5eec-ef30-4c29-89af-59c01558f2f6",
   "metadata": {},
   "outputs": [
    {
     "data": {
      "text/plain": [
       "[27, 31, 23, 34, 37, 38, 29, 30, 35, 30]"
      ]
     },
     "execution_count": 41,
     "metadata": {},
     "output_type": "execute_result"
    }
   ],
   "source": [
    "weathers"
   ]
  },
  {
   "cell_type": "code",
   "execution_count": 43,
   "id": "0c86307e-f498-4fc9-abd3-035500a3a7d7",
   "metadata": {},
   "outputs": [
    {
     "name": "stdout",
     "output_type": "stream",
     "text": [
      "Average temp of first week of Jan: \n",
      "314\n"
     ]
    }
   ],
   "source": [
    "print(\"Average temp of first week of Jan: \")\n",
    "sum = 0\n",
    "#sum += [i for i in weathers]\n",
    "for i in weathers:\n",
    "    sum += i\n",
    "print(sum)"
   ]
  },
  {
   "cell_type": "code",
   "execution_count": 45,
   "id": "ea4278b3-cca3-45bb-9eea-91ffe909dcaf",
   "metadata": {},
   "outputs": [
    {
     "name": "stdout",
     "output_type": "stream",
     "text": [
      "Maximum temp of first day of Jan: \n",
      "38\n"
     ]
    }
   ],
   "source": [
    "print(\"Maximum temp of first day of Jan: \")\n",
    "print(max(weathers))"
   ]
  },
  {
   "cell_type": "code",
   "execution_count": null,
   "id": "b40e9c1c-3679-49ff-a96f-7702821378b7",
   "metadata": {},
   "outputs": [],
   "source": []
  }
 ],
 "metadata": {
  "kernelspec": {
   "display_name": "Python 3 (ipykernel)",
   "language": "python",
   "name": "python3"
  },
  "language_info": {
   "codemirror_mode": {
    "name": "ipython",
    "version": 3
   },
   "file_extension": ".py",
   "mimetype": "text/x-python",
   "name": "python",
   "nbconvert_exporter": "python",
   "pygments_lexer": "ipython3",
   "version": "3.12.4"
  }
 },
 "nbformat": 4,
 "nbformat_minor": 5
}
