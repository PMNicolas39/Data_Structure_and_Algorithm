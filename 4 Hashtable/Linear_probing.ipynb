{
 "cells": [
  {
   "cell_type": "code",
   "execution_count": 54,
   "id": "9b8a3c0a-35f9-4d35-84c3-d5cf5d6e817b",
   "metadata": {},
   "outputs": [
    {
     "name": "stdout",
     "output_type": "stream",
     "text": [
      "10\n",
      "None\n"
     ]
    }
   ],
   "source": [
    "# Limitation: only return the key-value, not show full array. (See method 2 to see full array)\n",
    "class Linear_Probing_Hash_Table:\n",
    "    # Create key & value used in bucket\n",
    "    def __init__(self, size):\n",
    "        self.size = size\n",
    "        self.keys = [None] * size  #List\n",
    "        self.values = [None] * size #List\n",
    "\n",
    "    def hash_function(self, key):\n",
    "        return hash(key) % self.size\n",
    "    \n",
    "    def insert(self, key, value):\n",
    "        index = self.hash_function(key)\n",
    "        while self.keys[index] is not None:\n",
    "            if self.keys[index] == key:\n",
    "                self.values[index] = value\n",
    "            return\n",
    "            index = (index + 1) % self.size\n",
    "        self.keys[index] = key\n",
    "        self.values[index] = value\n",
    "\n",
    "    # Get value from key\n",
    "    def get(self, key):\n",
    "        index = self.hash_function(key)\n",
    "        # Linear probing to find the key:\n",
    "        while self.keys[index] is not None:\n",
    "            if self.keys[index] == key:\n",
    "                return self.values[index]\n",
    "            index = (index+1) % self.size\n",
    "        # Key not found\n",
    "        return None\n",
    "        \n",
    "hash_table = Linear_Probing_Hash_Table(10)\n",
    "hash_table.insert('apple' , 7)\n",
    "hash_table.insert('banana', 10)\n",
    "print(hash_table.get('banana'))\n",
    "print(hash_table.get('grape'))"
   ]
  },
  {
   "cell_type": "code",
   "execution_count": 96,
   "id": "81a7dace-44b3-4db1-b3bb-aad37113eb4e",
   "metadata": {},
   "outputs": [],
   "source": [
    "class Hash_table:\n",
    "    def __init__(self):\n",
    "        self.MAX = 10\n",
    "        self.arr = [None for i in range(self.MAX)] #Create a array contains key-value pairs.\n",
    "\n",
    "    def get_hash(self, key):\n",
    "        hash = 0\n",
    "        for char in key:\n",
    "            hash += ord(char)\n",
    "        return hash % self.MAX # hash(key): to return the Unicode. Could use ord(char for char in key) instead.\n",
    "\n",
    "    #use __getattribute__ method of python to get item/ value.\n",
    "    def __getitem__(self, key):\n",
    "        index = self.get_hash(key)\n",
    "        if self.arr[index] is None:\n",
    "            return\n",
    "        # Find slot contains key-value pair \n",
    "        list_prob = self.get_prob_range(index)\n",
    "        for prob_index in list_prob:\n",
    "            element = self.arr[prob_index]\n",
    "            if element is None:\n",
    "                return\n",
    "            if element[0] == key:\n",
    "                return element[1]\n",
    "\n",
    "    def __setitem__(self, key,value):\n",
    "        index = self.get_hash(key)\n",
    "        if self.arr[index] is None:\n",
    "            self.arr[index] = (key, value)\n",
    "        else:\n",
    "            # find new empty slot\n",
    "            new_index = self.find_slot(key, index)\n",
    "            self.arr[new_index] = (key, value)\n",
    "        print(self.arr)\n",
    "\n",
    "    def get_prob_range(self, index):\n",
    "        return [*range(index, len(self.arr))] + [*range(0, index)]\n",
    "\n",
    "    def find_slot(self, key, index):\n",
    "        list_prob = self.get_prob_range(index)\n",
    "        for prob_index in list_prob:\n",
    "            if self.arr[prob_index] is None:\n",
    "                return prob_index\n",
    "            if self.arr[prob_index][0] == key:\n",
    "                return prob_index\n",
    "        raise Exception (\"Hashmap is FULL\")\n",
    "\n",
    "    def __delattr__(self, key):\n",
    "        index = self.get_hash(key)\n",
    "        list_prob = self.get_prob_range(index)\n",
    "        for prob_index in list_prob:\n",
    "            if self.arr[prob_index] is None:\n",
    "                return\n",
    "            if self.arr[prob_index][0] == key:\n",
    "                self.arr[prob_index] = None\n",
    "        print(self.arr)"
   ]
  },
  {
   "cell_type": "markdown",
   "id": "a82a5b10-6a65-4e99-8c2a-55d6a10daa3a",
   "metadata": {},
   "source": [
    "# Function to show how *range(x,y) work. It returns a list of numbers of range(x,y)"
   ]
  },
  {
   "cell_type": "code",
   "execution_count": 78,
   "id": "65a3cc21-62f0-42be-ba78-385a29083e87",
   "metadata": {},
   "outputs": [
    {
     "data": {
      "text/plain": [
       "[5, 6, 7, 0, 1, 2, 3, 4]"
      ]
     },
     "execution_count": 78,
     "metadata": {},
     "output_type": "execute_result"
    }
   ],
   "source": [
    "[*range(5,8)] + [*range(0,5)]"
   ]
  },
  {
   "cell_type": "code",
   "execution_count": 100,
   "id": "5fa7fd86-a579-41e7-9b9c-dcf4f879ab1a",
   "metadata": {},
   "outputs": [
    {
     "ename": "RecursionError",
     "evalue": "maximum recursion depth exceeded",
     "output_type": "error",
     "traceback": [
      "\u001b[1;31m---------------------------------------------------------------------------\u001b[0m",
      "\u001b[1;31mRecursionError\u001b[0m                            Traceback (most recent call last)",
      "Cell \u001b[1;32mIn[100], line 1\u001b[0m\n\u001b[1;32m----> 1\u001b[0m t \u001b[38;5;241m=\u001b[39m \u001b[43mHash_table\u001b[49m\u001b[43m(\u001b[49m\u001b[43m)\u001b[49m\n\u001b[0;32m      2\u001b[0m t[\u001b[38;5;124m'\u001b[39m\u001b[38;5;124mmarch 6\u001b[39m\u001b[38;5;124m'\u001b[39m] \u001b[38;5;241m=\u001b[39m \u001b[38;5;241m20\u001b[39m\n\u001b[0;32m      3\u001b[0m t[\u001b[38;5;124m'\u001b[39m\u001b[38;5;124mmarch 17\u001b[39m\u001b[38;5;124m'\u001b[39m] \u001b[38;5;241m=\u001b[39m \u001b[38;5;241m88\u001b[39m\n",
      "Cell \u001b[1;32mIn[96], line 3\u001b[0m, in \u001b[0;36mHash_table.__init__\u001b[1;34m(self)\u001b[0m\n\u001b[0;32m      2\u001b[0m \u001b[38;5;28;01mdef\u001b[39;00m \u001b[38;5;21m__init__\u001b[39m(\u001b[38;5;28mself\u001b[39m):\n\u001b[1;32m----> 3\u001b[0m     \u001b[38;5;28;43mself\u001b[39;49m\u001b[38;5;241;43m.\u001b[39;49m\u001b[43mMAX\u001b[49m \u001b[38;5;241m=\u001b[39m \u001b[38;5;241m10\u001b[39m\n\u001b[0;32m      4\u001b[0m     \u001b[38;5;28mself\u001b[39m\u001b[38;5;241m.\u001b[39marr \u001b[38;5;241m=\u001b[39m [\u001b[38;5;28;01mNone\u001b[39;00m \u001b[38;5;28;01mfor\u001b[39;00m i \u001b[38;5;129;01min\u001b[39;00m \u001b[38;5;28mrange\u001b[39m(\u001b[38;5;28mself\u001b[39m\u001b[38;5;241m.\u001b[39mMAX)]\n",
      "Cell \u001b[1;32mIn[96], line 27\u001b[0m, in \u001b[0;36mHash_table.__setattr__\u001b[1;34m(self, key, value)\u001b[0m\n\u001b[0;32m     26\u001b[0m \u001b[38;5;28;01mdef\u001b[39;00m \u001b[38;5;21m__setattr__\u001b[39m(\u001b[38;5;28mself\u001b[39m, key,value):\n\u001b[1;32m---> 27\u001b[0m     index \u001b[38;5;241m=\u001b[39m \u001b[38;5;28;43mself\u001b[39;49m\u001b[38;5;241;43m.\u001b[39;49m\u001b[43mget_hash\u001b[49m(key)\n\u001b[0;32m     28\u001b[0m     \u001b[38;5;28;01mif\u001b[39;00m \u001b[38;5;28mself\u001b[39m\u001b[38;5;241m.\u001b[39marr[index] \u001b[38;5;129;01mis\u001b[39;00m \u001b[38;5;28;01mNone\u001b[39;00m:\n\u001b[0;32m     29\u001b[0m         \u001b[38;5;28mself\u001b[39m\u001b[38;5;241m.\u001b[39marr[index] \u001b[38;5;241m=\u001b[39m (key, value)\n",
      "Cell \u001b[1;32mIn[96], line 14\u001b[0m, in \u001b[0;36mHash_table.__getattribute__\u001b[1;34m(self, key)\u001b[0m\n\u001b[0;32m     13\u001b[0m \u001b[38;5;28;01mdef\u001b[39;00m \u001b[38;5;21m__getattribute__\u001b[39m(\u001b[38;5;28mself\u001b[39m, key):\n\u001b[1;32m---> 14\u001b[0m     index \u001b[38;5;241m=\u001b[39m \u001b[38;5;28;43mself\u001b[39;49m\u001b[38;5;241;43m.\u001b[39;49m\u001b[43mget_hash\u001b[49m(key)\n\u001b[0;32m     15\u001b[0m     \u001b[38;5;28;01mif\u001b[39;00m \u001b[38;5;28mself\u001b[39m\u001b[38;5;241m.\u001b[39marr[index] \u001b[38;5;129;01mis\u001b[39;00m \u001b[38;5;28;01mNone\u001b[39;00m:\n\u001b[0;32m     16\u001b[0m         \u001b[38;5;28;01mreturn\u001b[39;00m\n",
      "Cell \u001b[1;32mIn[96], line 14\u001b[0m, in \u001b[0;36mHash_table.__getattribute__\u001b[1;34m(self, key)\u001b[0m\n\u001b[0;32m     13\u001b[0m \u001b[38;5;28;01mdef\u001b[39;00m \u001b[38;5;21m__getattribute__\u001b[39m(\u001b[38;5;28mself\u001b[39m, key):\n\u001b[1;32m---> 14\u001b[0m     index \u001b[38;5;241m=\u001b[39m \u001b[38;5;28;43mself\u001b[39;49m\u001b[38;5;241;43m.\u001b[39;49m\u001b[43mget_hash\u001b[49m(key)\n\u001b[0;32m     15\u001b[0m     \u001b[38;5;28;01mif\u001b[39;00m \u001b[38;5;28mself\u001b[39m\u001b[38;5;241m.\u001b[39marr[index] \u001b[38;5;129;01mis\u001b[39;00m \u001b[38;5;28;01mNone\u001b[39;00m:\n\u001b[0;32m     16\u001b[0m         \u001b[38;5;28;01mreturn\u001b[39;00m\n",
      "    \u001b[1;31m[... skipping similar frames: Hash_table.__getattribute__ at line 14 (2972 times)]\u001b[0m\n",
      "Cell \u001b[1;32mIn[96], line 14\u001b[0m, in \u001b[0;36mHash_table.__getattribute__\u001b[1;34m(self, key)\u001b[0m\n\u001b[0;32m     13\u001b[0m \u001b[38;5;28;01mdef\u001b[39;00m \u001b[38;5;21m__getattribute__\u001b[39m(\u001b[38;5;28mself\u001b[39m, key):\n\u001b[1;32m---> 14\u001b[0m     index \u001b[38;5;241m=\u001b[39m \u001b[38;5;28;43mself\u001b[39;49m\u001b[38;5;241;43m.\u001b[39;49m\u001b[43mget_hash\u001b[49m(key)\n\u001b[0;32m     15\u001b[0m     \u001b[38;5;28;01mif\u001b[39;00m \u001b[38;5;28mself\u001b[39m\u001b[38;5;241m.\u001b[39marr[index] \u001b[38;5;129;01mis\u001b[39;00m \u001b[38;5;28;01mNone\u001b[39;00m:\n\u001b[0;32m     16\u001b[0m         \u001b[38;5;28;01mreturn\u001b[39;00m\n",
      "\u001b[1;31mRecursionError\u001b[0m: maximum recursion depth exceeded"
     ]
    }
   ],
   "source": [
    "t = Hash_table()\n",
    "t['march 6'] = 20\n",
    "t['march 17'] = 88"
   ]
  },
  {
   "cell_type": "code",
   "execution_count": null,
   "id": "eb5b9229-123b-4e1b-9cf8-1306fcd2cd0d",
   "metadata": {},
   "outputs": [],
   "source": []
  },
  {
   "cell_type": "code",
   "execution_count": null,
   "id": "20ee7a73-b658-478d-ac35-1b6039f5ee89",
   "metadata": {},
   "outputs": [],
   "source": []
  }
 ],
 "metadata": {
  "kernelspec": {
   "display_name": "Python 3 (ipykernel)",
   "language": "python",
   "name": "python3"
  },
  "language_info": {
   "codemirror_mode": {
    "name": "ipython",
    "version": 3
   },
   "file_extension": ".py",
   "mimetype": "text/x-python",
   "name": "python",
   "nbconvert_exporter": "python",
   "pygments_lexer": "ipython3",
   "version": "3.12.4"
  }
 },
 "nbformat": 4,
 "nbformat_minor": 5
}
